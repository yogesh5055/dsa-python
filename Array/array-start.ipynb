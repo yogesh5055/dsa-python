{
 "cells": [
  {
   "cell_type": "code",
   "execution_count": 16,
   "id": "c2b50a34",
   "metadata": {},
   "outputs": [
    {
     "name": "stdout",
     "output_type": "stream",
     "text": [
      "array('i', [20, 30, 60, 3])\n",
      "array('i', [0, 30, 60, 3])\n",
      "1\n",
      "0 <--> 30 <--> 60 <--> 3 <--> "
     ]
    }
   ],
   "source": [
    "#Array \n",
    "\"\"\"\n",
    "Collection of Similar data type of element\n",
    "\n",
    "Operations:\n",
    "  ->Update\n",
    "  ->Search\n",
    "  ->Traverse\n",
    "  ->Insert\n",
    "  ->Delete\n",
    "  \n",
    "\"\"\"\n",
    "\n",
    "#Using inbuild array library\n",
    "\n",
    "from array import *\n",
    "\n",
    "arr = array('i',[20,30,50,60])  #\"i\" -> signed integer \n",
    "\n",
    "#Insert\n",
    "\n",
    "arr.insert(30,3)\n",
    "\n",
    "#Delete\n",
    "\n",
    "arr.remove(50)\n",
    "print(arr)\n",
    "\n",
    "#Update\n",
    "\n",
    "arr[0] = 0\n",
    "print(arr)\n",
    "\n",
    "#Search\n",
    "\n",
    "print(arr.index(30))\n",
    "\n",
    "#Traverse\n",
    "\n",
    "for i in arr:\n",
    "    print(i,end=\" <--> \")\n"
   ]
  },
  {
   "cell_type": "code",
   "execution_count": 20,
   "id": "aae15d6f",
   "metadata": {},
   "outputs": [
    {
     "name": "stdout",
     "output_type": "stream",
     "text": [
      "20 30 40 50\n",
      "20 == 30 == 40 == 50 == [30, 40, 50]\n",
      "3\n",
      "[0, 40, 50, 30]\n"
     ]
    }
   ],
   "source": [
    "#Using List  - Get multiple input\n",
    "\n",
    "list_items = list(map(int,input().split(\" \")))\n",
    "\n",
    "#Traverse\n",
    "for i in list_items:\n",
    "    print(i,end=\" == \")\n",
    "\n",
    "#Remove\n",
    "list_items.remove(20)\n",
    "print(list_items)\n",
    "\n",
    "#Insert\n",
    "list_items.insert(3,30)\n",
    "\n",
    "#Update\n",
    "list_items[0] = 0\n",
    "\n",
    "#Search\n",
    "print(list_items.index(30))\n",
    "\n",
    "print(list_items)"
   ]
  },
  {
   "cell_type": "code",
   "execution_count": null,
   "id": "24ed53b2",
   "metadata": {},
   "outputs": [],
   "source": []
  }
 ],
 "metadata": {
  "kernelspec": {
   "display_name": "Python 3 (ipykernel)",
   "language": "python",
   "name": "python3"
  },
  "language_info": {
   "codemirror_mode": {
    "name": "ipython",
    "version": 3
   },
   "file_extension": ".py",
   "mimetype": "text/x-python",
   "name": "python",
   "nbconvert_exporter": "python",
   "pygments_lexer": "ipython3",
   "version": "3.12.3"
  }
 },
 "nbformat": 4,
 "nbformat_minor": 5
}
